{
  "cells": [
    {
      "cell_type": "markdown",
      "metadata": {
        "id": "view-in-github",
        "colab_type": "text"
      },
      "source": [
        "<a href=\"https://colab.research.google.com/github/ttopal/Bike-Rental-Shop/blob/main/notebooks/1-python-numpy-tutorial.ipynb\" target=\"_parent\"><img src=\"https://colab.research.google.com/assets/colab-badge.svg\" alt=\"Open In Colab\"/></a>"
      ]
    },
    {
      "cell_type": "markdown",
      "metadata": {
        "id": "VdTXzu3QaqSY"
      },
      "source": [
        "Python Crash Course\n",
        "===================\n",
        "\n",
        "*Fraida Fund*\n",
        "\n",
        "[![Open In\n",
        "Colab](https://colab.research.google.com/assets/colab-badge.svg)](https://colab.research.google.com/github/ffund/ml-notebooks/blob/master/notebooks/1-python-numpy-tutorial.ipynb)"
      ],
      "id": "VdTXzu3QaqSY"
    },
    {
      "cell_type": "markdown",
      "metadata": {
        "id": "0d4-CEWBaqSc"
      },
      "source": [
        "**Attribution**:\n",
        "\n",
        "-   Parts of this notebook are adapted from a [tutorial from CS231N at\n",
        "    Stanford\n",
        "    University](https://cs231n.github.io/python-numpy-tutorial/), which\n",
        "    is shared under the [MIT\n",
        "    license]((https://opensource.org/licenses/MIT)).\n",
        "-   Parts of this notebook are adapted from Jake VanderPlas’s [Whirlwind\n",
        "    Tour of\n",
        "    Python](https://colab.research.google.com/github/jakevdp/WhirlwindTourOfPython/blob/master/Index.ipynb),\n",
        "    which is shared under the [Creative Commons CC0 Public Domain\n",
        "    Dedication\n",
        "    license](https://github.com/jakevdp/WhirlwindTourOfPython/blob/master/LICENSE).\n",
        "-   The visualizations in this notebook are from [A Visual Intro to\n",
        "    NumPy](http://jalammar.github.io/visual-numpy/) by Jay Alammar,\n",
        "    which is licensed under a Creative Commons\n",
        "    Attribution-NonCommercial-ShareAlike 4.0 International License.\n",
        "-   Parts of this notebook (and some images) about `numpy` broadcasting\n",
        "    are adapted from Sebastian Raschka’s\n",
        "    [STATS451](https://github.com/rasbt/stat451-machine-learning-fs20)\n",
        "    materials."
      ],
      "id": "0d4-CEWBaqSc"
    },
    {
      "cell_type": "markdown",
      "metadata": {
        "id": "lDIrA_qxaqSe"
      },
      "source": [
        "Introduction\n",
        "------------"
      ],
      "id": "lDIrA_qxaqSe"
    },
    {
      "cell_type": "markdown",
      "metadata": {
        "id": "vIiQjCglaqSe"
      },
      "source": [
        "Python is a great general-purpose programming language on its own, but\n",
        "with the help of a few popular *libraries* (`numpy`, `pandas`,\n",
        "`matplotlib`) it becomes a powerful environment for scientific\n",
        "computing."
      ],
      "id": "vIiQjCglaqSe"
    },
    {
      "cell_type": "markdown",
      "metadata": {
        "id": "g5JMJcAnaqSf"
      },
      "source": [
        "This tutorial is an introduction to Python and the `numpy` library for\n",
        "those who are already familiar with programming in another language.\n",
        "\n",
        "In this tutorial, we will cover:\n",
        "\n",
        "-   Basic Python: Basic data types, Containers (Lists, Dictionaries,,\n",
        "    Tuples), Control Flow Statements, Errors and Exceptions, Functions,\n",
        "    Classes\n",
        "-   `numpy`: Arrays, Array indexing, Datatypes, Array math, Broadcasting\n",
        "-   `matplotlib`: Basic Visualization, Subplots, Image Visualization"
      ],
      "id": "g5JMJcAnaqSf"
    },
    {
      "cell_type": "markdown",
      "metadata": {
        "id": "VD_xs7ECaqSf"
      },
      "source": [
        "This tutorial is designed to run as a Python notebook on Colab. We’ll\n",
        "take a closer look at Colab and its features in a separate tutorial, but\n",
        "for now, here is what you need to know:\n",
        "\n",
        "-   When you see a “cell” with Python code in it, move your mouse over\n",
        "    the margin on the left side of the cell. A \\> button will appear -\n",
        "    click on that button to execute the code in the cell.\n",
        "-   The output of the code will appear underneath the cell.\n",
        "-   You can edit the code in the cell and press the \\> button again to\n",
        "    execute the modified code.\n",
        "\n",
        "As you work through this tutorial, look at the code in each cell, and\n",
        "try to predict its output before you run it! Then, run the cell and\n",
        "check your understanding. You can also try to modify the code and\n",
        "observe the effect of your changes."
      ],
      "id": "VD_xs7ECaqSf"
    },
    {
      "cell_type": "markdown",
      "metadata": {
        "id": "sXRX-qEraqSg"
      },
      "source": [
        "A Brief Note on Python Versions\n",
        "-------------------------------\n",
        "\n",
        "As of Janurary 1, 2020, Python has [officially dropped\n",
        "support](https://www.python.org/doc/sunset-python-2/) for `python2`.\n",
        "We’ll be using Python 3 for this course."
      ],
      "id": "sXRX-qEraqSg"
    },
    {
      "cell_type": "markdown",
      "metadata": {
        "id": "tv-i9GJnaqSh"
      },
      "source": [
        "Basics of Python\n",
        "----------------"
      ],
      "id": "tv-i9GJnaqSh"
    },
    {
      "cell_type": "markdown",
      "metadata": {
        "id": "AMFGh7xdaqSh"
      },
      "source": [
        "Python is a high-level, dynamically typed multiparadigm programming\n",
        "language. Python code is often said to be almost like pseudocode, since\n",
        "it allows you to express very powerful ideas in very few lines of code\n",
        "while being very readable. As an example, here is an implementation of\n",
        "the classic quicksort algorithm in Python:"
      ],
      "id": "AMFGh7xdaqSh"
    },
    {
      "cell_type": "code",
      "execution_count": null,
      "metadata": {
        "id": "VV2O1LTMaqSi"
      },
      "outputs": [],
      "source": [
        "def quicksort(arr):\n",
        "    if len(arr) <= 1:\n",
        "        return arr\n",
        "    pivot = arr[len(arr) // 2]\n",
        "    left = [x for x in arr if x < pivot]\n",
        "    middle = [x for x in arr if x == pivot]\n",
        "    right = [x for x in arr if x > pivot]\n",
        "    return quicksort(left) + middle + quicksort(right)\n",
        "\n",
        "print(quicksort([3,6,8,10,1,2,1]))"
      ],
      "id": "VV2O1LTMaqSi"
    },
    {
      "cell_type": "markdown",
      "metadata": {
        "id": "_s2qjhn4aqSk"
      },
      "source": [
        "### Basic data types"
      ],
      "id": "_s2qjhn4aqSk"
    },
    {
      "cell_type": "markdown",
      "metadata": {
        "id": "F-p76kquaqSk"
      },
      "source": [
        "#### Numbers"
      ],
      "id": "F-p76kquaqSk"
    },
    {
      "cell_type": "markdown",
      "metadata": {
        "id": "HH56AKYuaqSk"
      },
      "source": [
        "Integers and floats work as you would expect from other languages:"
      ],
      "id": "HH56AKYuaqSk"
    },
    {
      "cell_type": "code",
      "execution_count": null,
      "metadata": {
        "id": "3jx6wGqbaqSl"
      },
      "outputs": [],
      "source": [
        "x = 3\n",
        "print(x, type(x))"
      ],
      "id": "3jx6wGqbaqSl"
    },
    {
      "cell_type": "markdown",
      "metadata": {
        "id": "n9l-QHiyaqSl"
      },
      "source": [
        "By the way: note that you did not have to declare the variable `x` or\n",
        "specify its type before you assigned a value to it. In Python, you can\n",
        "create a variable just by assigning something to it."
      ],
      "id": "n9l-QHiyaqSl"
    },
    {
      "cell_type": "code",
      "execution_count": null,
      "metadata": {
        "id": "CDli3luTaqSl"
      },
      "outputs": [],
      "source": [
        "print(x + 1)   # Addition\n",
        "print(x - 1)   # Subtraction\n",
        "print(x * 2)   # Multiplication\n",
        "print(x ** 2)  # Exponentiation"
      ],
      "id": "CDli3luTaqSl"
    },
    {
      "cell_type": "markdown",
      "metadata": {
        "id": "EI4KLFqwaqSm"
      },
      "source": [
        "Notice that in the cell above, there is a comment at the end of each\n",
        "line. Comments in Python are indicated by a pound sign (`#`), and\n",
        "anything on the line following the pound sign is ignored. You can have\n",
        "inline comments that follow a statement on the same line, like the ones\n",
        "above, or a comment on its own line."
      ],
      "id": "EI4KLFqwaqSm"
    },
    {
      "cell_type": "code",
      "execution_count": null,
      "metadata": {
        "id": "R-fgvdqFaqSm"
      },
      "outputs": [],
      "source": [
        "x += 1\n",
        "print(x)\n",
        "x *= 2\n",
        "print(x)"
      ],
      "id": "R-fgvdqFaqSm"
    },
    {
      "cell_type": "code",
      "execution_count": null,
      "metadata": {
        "id": "3n94EOl1aqSn"
      },
      "outputs": [],
      "source": [
        "y = 2.5\n",
        "print(type(y))\n",
        "print(y, y + 1, y * 2, y ** 2)"
      ],
      "id": "3n94EOl1aqSn"
    },
    {
      "cell_type": "markdown",
      "metadata": {
        "id": "IxgBXj8gaqSn"
      },
      "source": [
        "Note that unlike many languages, Python does not have unary increment\n",
        "(x++) or decrement (x--) operators.\n",
        "\n",
        "Python also has built-in types for long integers and complex numbers;\n",
        "you can find all of the details in the\n",
        "[documentation](https://docs.python.org/3.7/library/stdtypes.html#numeric-types-int-float-long-complex)."
      ],
      "id": "IxgBXj8gaqSn"
    },
    {
      "cell_type": "markdown",
      "metadata": {
        "id": "bM00EcIbaqSn"
      },
      "source": [
        "#### Booleans"
      ],
      "id": "bM00EcIbaqSn"
    },
    {
      "cell_type": "markdown",
      "metadata": {
        "id": "MAKPtaO7aqSn"
      },
      "source": [
        "Python implements all of the usual operators for Boolean logic, but uses\n",
        "English words rather than symbols (`&&`, `||`, etc.):"
      ],
      "id": "MAKPtaO7aqSn"
    },
    {
      "cell_type": "code",
      "execution_count": null,
      "metadata": {
        "id": "bhkjXXiDaqSn"
      },
      "outputs": [],
      "source": [
        "t, f = True, False\n",
        "print(type(t))"
      ],
      "id": "bhkjXXiDaqSn"
    },
    {
      "cell_type": "markdown",
      "metadata": {
        "id": "exxt8QhKaqSo"
      },
      "source": [
        "Now let's look at the operations:"
      ],
      "id": "exxt8QhKaqSo"
    },
    {
      "cell_type": "code",
      "execution_count": null,
      "metadata": {
        "id": "usKPhydAaqSo"
      },
      "outputs": [],
      "source": [
        "print(t and f) # Logical AND;\n",
        "print(t or f)  # Logical OR;\n",
        "print(not t)   # Logical NOT;\n",
        "print(t != f)  # Logical XOR;"
      ],
      "id": "usKPhydAaqSo"
    },
    {
      "cell_type": "markdown",
      "metadata": {
        "id": "Ua2_1xVEaqSo"
      },
      "source": [
        "#### Strings"
      ],
      "id": "Ua2_1xVEaqSo"
    },
    {
      "cell_type": "code",
      "execution_count": null,
      "metadata": {
        "id": "HWwpE4vuaqSo"
      },
      "outputs": [],
      "source": [
        "hello = 'hello'   # String literals can use single quotes\n",
        "world = \"world\"   # or double quotes; it does not matter\n",
        "print(hello, len(hello))"
      ],
      "id": "HWwpE4vuaqSo"
    },
    {
      "cell_type": "code",
      "execution_count": null,
      "metadata": {
        "id": "6lv_7s_SaqSp"
      },
      "outputs": [],
      "source": [
        "hw = hello + ' ' + world  # String concatenation\n",
        "print(hw)"
      ],
      "id": "6lv_7s_SaqSp"
    },
    {
      "cell_type": "code",
      "execution_count": null,
      "metadata": {
        "id": "cD4gRtzXaqSp"
      },
      "outputs": [],
      "source": [
        "hw12 = '{} {} {}'.format(hello, world, 12)  # string formatting\n",
        "print(hw12)"
      ],
      "id": "cD4gRtzXaqSp"
    },
    {
      "cell_type": "markdown",
      "metadata": {
        "id": "T6-bO9V7aqSp"
      },
      "source": [
        "String objects have a bunch of useful methods; for example:"
      ],
      "id": "T6-bO9V7aqSp"
    },
    {
      "cell_type": "code",
      "execution_count": null,
      "metadata": {
        "id": "Zv2h3f93aqSp"
      },
      "outputs": [],
      "source": [
        "s = \"hello\"\n",
        "print(s.capitalize())  # Capitalize a string\n",
        "print(s.upper())       # Convert a string to uppercase; prints \"HELLO\"\n",
        "print(s.rjust(7))      # Right-justify a string, padding with spaces\n",
        "print(s.center(7))     # Center a string, padding with spaces\n",
        "print(s.replace('l', '(ell)'))  # Replace all instances of one substring with another\n",
        "print('  world '.strip())  # Strip leading and trailing whitespace"
      ],
      "id": "Zv2h3f93aqSp"
    },
    {
      "cell_type": "markdown",
      "metadata": {
        "id": "0Dc7Lpv-aqSp"
      },
      "source": [
        "You can find a list of all string methods in the\n",
        "[documentation](https://docs.python.org/3.7/library/stdtypes.html#string-methods)."
      ],
      "id": "0Dc7Lpv-aqSp"
    },
    {
      "cell_type": "markdown",
      "metadata": {
        "id": "SnKwKRiJaqSq"
      },
      "source": [
        "### Containers"
      ],
      "id": "SnKwKRiJaqSq"
    },
    {
      "cell_type": "markdown",
      "metadata": {
        "id": "Ux-i9uYPaqSq"
      },
      "source": [
        "Python includes several built-in container types: lists, dictionaries,\n",
        "sets, and tuples."
      ],
      "id": "Ux-i9uYPaqSq"
    },
    {
      "cell_type": "markdown",
      "metadata": {
        "id": "_bSjz620aqSq"
      },
      "source": [
        "#### Lists"
      ],
      "id": "_bSjz620aqSq"
    },
    {
      "cell_type": "markdown",
      "metadata": {
        "id": "b2IOO1o_aqSq"
      },
      "source": [
        "A list is the Python equivalent of an array, but is resizeable and can\n",
        "contain elements of different types:"
      ],
      "id": "b2IOO1o_aqSq"
    },
    {
      "cell_type": "code",
      "execution_count": null,
      "metadata": {
        "id": "KPicvAFqaqSr"
      },
      "outputs": [],
      "source": [
        "xs = [3, 1, 2]   # Create a list\n",
        "print(xs, xs[2])\n",
        "print(xs[-1])     # Negative indices count from the end of the list; prints \"2\""
      ],
      "id": "KPicvAFqaqSr"
    },
    {
      "cell_type": "code",
      "execution_count": null,
      "metadata": {
        "id": "4k4oH-79aqSr"
      },
      "outputs": [],
      "source": [
        "xs[2] = 'foo'    # Lists can contain elements of different types\n",
        "print(xs)"
      ],
      "id": "4k4oH-79aqSr"
    },
    {
      "cell_type": "code",
      "execution_count": null,
      "metadata": {
        "id": "8ECeBsmVaqSr"
      },
      "outputs": [],
      "source": [
        "xs.append('bar') # Add a new element to the end of the list\n",
        "print(xs)  "
      ],
      "id": "8ECeBsmVaqSr"
    },
    {
      "cell_type": "code",
      "execution_count": null,
      "metadata": {
        "id": "oqTXk_3gaqSt"
      },
      "outputs": [],
      "source": [
        "x = xs.pop()     # Remove and return the last element of the list\n",
        "print(x, xs)"
      ],
      "id": "oqTXk_3gaqSt"
    },
    {
      "cell_type": "markdown",
      "metadata": {
        "id": "2xghkkFPaqSt"
      },
      "source": [
        "As usual, you can find all the gory details about lists in the\n",
        "[documentation](https://docs.python.org/3.7/tutorial/datastructures.html#more-on-lists)."
      ],
      "id": "2xghkkFPaqSt"
    },
    {
      "cell_type": "markdown",
      "metadata": {
        "id": "wP5TlofVaqSt"
      },
      "source": [
        "#### Slicing"
      ],
      "id": "wP5TlofVaqSt"
    },
    {
      "cell_type": "markdown",
      "metadata": {
        "id": "IvQ-SUsSaqSt"
      },
      "source": [
        "In addition to accessing list elements one at a time, Python provides\n",
        "concise syntax to access sublists; this is known as slicing:"
      ],
      "id": "IvQ-SUsSaqSt"
    },
    {
      "cell_type": "code",
      "execution_count": null,
      "metadata": {
        "id": "B-S3AvWfaqSt"
      },
      "outputs": [],
      "source": [
        "nums = list(range(5))    # range is a built-in function that creates a list of integers\n",
        "print(nums)         # Prints \"[0, 1, 2, 3, 4]\"\n",
        "print(nums[2:4])    # Get a slice from index 2 to 4 (exclusive); prints \"[2, 3]\"\n",
        "print(nums[2:])     # Get a slice from index 2 to the end; prints \"[2, 3, 4]\"\n",
        "print(nums[:2])     # Get a slice from the start to index 2 (exclusive); prints \"[0, 1]\"\n",
        "print(nums[:])      # Get a slice of the whole list; prints [\"0, 1, 2, 3, 4]\"\n",
        "print(nums[:-1])    # Slice indices can be negative; prints [\"0, 1, 2, 3]\"\n",
        "nums[2:4] = [8, 9] # Assign a new sublist to a slice\n",
        "print(nums)         # Prints \"[0, 1, 8, 9, 4]\""
      ],
      "id": "B-S3AvWfaqSt"
    },
    {
      "cell_type": "markdown",
      "metadata": {
        "id": "DhO0H4QBaqSu"
      },
      "source": [
        "#### Dictionaries"
      ],
      "id": "DhO0H4QBaqSu"
    },
    {
      "cell_type": "markdown",
      "metadata": {
        "id": "izvG3LQ4aqSu"
      },
      "source": [
        "A dictionary stores (key, value) pairs, similar to a `Map` in Java or an\n",
        "object in Javascript. You can use it like this:"
      ],
      "id": "izvG3LQ4aqSu"
    },
    {
      "cell_type": "code",
      "execution_count": null,
      "metadata": {
        "id": "G_Vu20R8aqSu"
      },
      "outputs": [],
      "source": [
        "d = {'cat': 'cute', 'dog': 'furry'}  # Create a new dictionary with some data\n",
        "print(d['cat'])       # Get an entry from a dictionary; prints \"cute\"\n",
        "print('cat' in d)     # Check if a dictionary has a given key; prints \"True\""
      ],
      "id": "G_Vu20R8aqSu"
    },
    {
      "cell_type": "code",
      "execution_count": null,
      "metadata": {
        "id": "fXzCAoX2aqSu"
      },
      "outputs": [],
      "source": [
        "d['fish'] = 'wet'    # Set an entry in a dictionary\n",
        "print(d['fish'])      # Prints \"wet\""
      ],
      "id": "fXzCAoX2aqSu"
    },
    {
      "cell_type": "code",
      "execution_count": null,
      "metadata": {
        "id": "j7w0miiraqSv"
      },
      "outputs": [],
      "source": [
        "# note: this cell will raise an error\n",
        "print(d['monkey'])  # KeyError: 'monkey' not a key of d"
      ],
      "id": "j7w0miiraqSv"
    },
    {
      "cell_type": "code",
      "execution_count": null,
      "metadata": {
        "id": "ofW-3fvLaqSv"
      },
      "outputs": [],
      "source": [
        "print(d.get('monkey', 'N/A'))  # Get an element with a default; prints \"N/A\"\n",
        "print(d.get('fish', 'N/A'))    # Get an element with a default; prints \"wet\""
      ],
      "id": "ofW-3fvLaqSv"
    },
    {
      "cell_type": "code",
      "execution_count": null,
      "metadata": {
        "id": "Y85fzOKHaqSw"
      },
      "outputs": [],
      "source": [
        "del d['fish']        # Remove an element from a dictionary\n",
        "print(d.get('fish', 'N/A')) # \"fish\" is no longer a key; prints \"N/A\""
      ],
      "id": "Y85fzOKHaqSw"
    },
    {
      "cell_type": "markdown",
      "metadata": {
        "id": "ZgS6485raqSw"
      },
      "source": [
        "You can find all you need to know about dictionaries in the\n",
        "[documentation](https://docs.python.org/2/library/stdtypes.html#dict)."
      ],
      "id": "ZgS6485raqSw"
    },
    {
      "cell_type": "markdown",
      "metadata": {
        "id": "ohLtZ3AiaqSw"
      },
      "source": [
        "#### Tuples"
      ],
      "id": "ohLtZ3AiaqSw"
    },
    {
      "cell_type": "markdown",
      "metadata": {
        "id": "ODZzCkmFaqSw"
      },
      "source": [
        "A tuple is an (immutable) ordered list of values. A tuple is in many\n",
        "ways similar to a list; one of the most important differences is that\n",
        "tuples can be used as keys in dictionaries and as elements of sets,\n",
        "while lists cannot. Here is a trivial example:"
      ],
      "id": "ODZzCkmFaqSw"
    },
    {
      "cell_type": "code",
      "execution_count": null,
      "metadata": {
        "id": "ukgiTBhsaqSw"
      },
      "outputs": [],
      "source": [
        "d = {(x, x + 1): x for x in range(10)}  # Create a dictionary with tuple keys\n",
        "t = (5, 6)       # Create a tuple\n",
        "print(type(t))\n",
        "print(d[t])       \n",
        "\n",
        "print(d[(1, 2)])"
      ],
      "id": "ukgiTBhsaqSw"
    },
    {
      "cell_type": "code",
      "execution_count": null,
      "metadata": {
        "id": "VOmM8IfBaqSw"
      },
      "outputs": [],
      "source": [
        "d[0] = 100 # you can change a value in the dictionary...\n",
        "print(d)"
      ],
      "id": "VOmM8IfBaqSw"
    },
    {
      "cell_type": "code",
      "execution_count": null,
      "metadata": {
        "id": "sfs8PXARaqSx"
      },
      "outputs": [],
      "source": [
        "t[0] = 1 # ...but not a value in the tuple\n",
        "# this cell raises an error! 'tuple' object does not support item assignment"
      ],
      "id": "sfs8PXARaqSx"
    },
    {
      "cell_type": "markdown",
      "metadata": {
        "id": "pww2E8q9aqSx"
      },
      "source": [
        "### Control Flow Statements"
      ],
      "id": "pww2E8q9aqSx"
    },
    {
      "cell_type": "markdown",
      "metadata": {
        "id": "az7TUEmRaqSx"
      },
      "source": [
        "#### If-Else\n",
        "\n",
        "Conditional statements, often referred to as *if-then* statements, allow\n",
        "the programmer to execute certain pieces of code depending on some\n",
        "Boolean condition.\n",
        "\n",
        "A basic example of a Python conditional statement is this:"
      ],
      "id": "az7TUEmRaqSx"
    },
    {
      "cell_type": "code",
      "execution_count": null,
      "metadata": {
        "id": "He9IlkpjaqSx"
      },
      "outputs": [],
      "source": [
        "\n",
        "x = -15\n",
        "\n",
        "if x == 0:\n",
        "    print(x, \"is zero\")\n",
        "elif x > 0:\n",
        "    print(x, \"is positive\")\n",
        "elif x < 0:\n",
        "    print(x, \"is negative\")\n",
        "else:\n",
        "    print(x, \"is unlike anything I've ever seen...\")"
      ],
      "id": "He9IlkpjaqSx"
    },
    {
      "cell_type": "markdown",
      "metadata": {
        "id": "BwNDIwsHaqSy"
      },
      "source": [
        "Note especially the use of colons (`:`) and whitespace to denote\n",
        "separate blocks of code.\n",
        "\n",
        "A *block* of code is a set of statements that should be treated as a\n",
        "unit. In C, for example, code blocks are denoted by curly braces:\n",
        "\n",
        "``` c\n",
        "// C code\n",
        "for(int i=0; i<100; i++)\n",
        "   {\n",
        "      // curly braces indicate code block\n",
        "      total += i;\n",
        "   }\n",
        "```\n",
        "\n",
        "In Python, code blocks are denoted by *indentation*:\n",
        "\n",
        "``` python\n",
        "for i in range(100):\n",
        "    # indentation indicates code block\n",
        "    total += i\n",
        "```\n",
        "\n",
        "where all statements that should be evaluated within the “block” are at\n",
        "the same level of indentation.\n",
        "\n",
        "Indented code blocks are always preceded by a colon (`:`) on the\n",
        "previous line."
      ],
      "id": "BwNDIwsHaqSy"
    },
    {
      "cell_type": "markdown",
      "metadata": {
        "id": "RvDsFXccaqSy"
      },
      "source": [
        "#### For\n",
        "\n",
        "Loops in Python are a way to repeatedly execute some code statement. So,\n",
        "for example, if we’d like to print each of the items in a list, we can\n",
        "use a `for` loop:"
      ],
      "id": "RvDsFXccaqSy"
    },
    {
      "cell_type": "code",
      "execution_count": null,
      "metadata": {
        "id": "-ImEHmshaqSy"
      },
      "outputs": [],
      "source": [
        "for N in [2, 3, 5, 7]:\n",
        "    print(N, end=' ') # print all on same line"
      ],
      "id": "-ImEHmshaqSy"
    },
    {
      "cell_type": "markdown",
      "metadata": {
        "id": "3CtZZyhyaqSy"
      },
      "source": [
        "Notice the simplicity of the `for` loop: we specify the variable we want\n",
        "to use, the sequence we want to loop over, and use the “`in`” operator\n",
        "to link them together in an intuitive and readable way. More precisely,\n",
        "the object to the right of the “`in`” can be any Python *iterator*.\n",
        "\n",
        "For example, one of the most commonly-used iterators in Python is the\n",
        "`range` object, which generates a sequence of numbers:"
      ],
      "id": "3CtZZyhyaqSy"
    },
    {
      "cell_type": "code",
      "execution_count": null,
      "metadata": {
        "id": "7FJ9_D5FaqSy"
      },
      "outputs": [],
      "source": [
        "for i in range(10):\n",
        "    print(i, end=' ')"
      ],
      "id": "7FJ9_D5FaqSy"
    },
    {
      "cell_type": "markdown",
      "metadata": {
        "id": "_-gBiWf5aqSz"
      },
      "source": [
        "Note that the range starts at zero by default, and that by convention\n",
        "the top of the range is not included in the output."
      ],
      "id": "_-gBiWf5aqSz"
    },
    {
      "cell_type": "markdown",
      "metadata": {
        "id": "wCAu-uefaqSz"
      },
      "source": [
        "We can loop over any list, no matter what type of object is stored in\n",
        "it."
      ],
      "id": "wCAu-uefaqSz"
    },
    {
      "cell_type": "code",
      "execution_count": null,
      "metadata": {
        "id": "8RJXUKjvaqSz"
      },
      "outputs": [],
      "source": [
        "animals = ['cat', 'dog', 'monkey']\n",
        "for animal in animals:\n",
        "    print(animal)"
      ],
      "id": "8RJXUKjvaqSz"
    },
    {
      "cell_type": "markdown",
      "metadata": {
        "id": "r2FcUHGBaqSz"
      },
      "source": [
        "If you want access to the index of each element within the body of a\n",
        "loop, use the built-in `enumerate` function:"
      ],
      "id": "r2FcUHGBaqSz"
    },
    {
      "cell_type": "code",
      "execution_count": null,
      "metadata": {
        "id": "7oaebhNOaqSz"
      },
      "outputs": [],
      "source": [
        "animals = ['cat', 'dog', 'monkey']\n",
        "for idx, animal in enumerate(animals):\n",
        "    print('#{}: {}'.format(idx + 1, animal))"
      ],
      "id": "7oaebhNOaqSz"
    },
    {
      "cell_type": "markdown",
      "metadata": {
        "id": "2QSZurnLaqS0"
      },
      "source": [
        "It is easy to iterate over the keys in a dictionary:"
      ],
      "id": "2QSZurnLaqS0"
    },
    {
      "cell_type": "code",
      "execution_count": null,
      "metadata": {
        "id": "TxRFHw9MaqS0"
      },
      "outputs": [],
      "source": [
        "d = {'person': 2, 'cat': 4, 'spider': 8}\n",
        "for animal, legs in d.items():\n",
        "    print('A {} has {} legs'.format(animal, legs))"
      ],
      "id": "TxRFHw9MaqS0"
    },
    {
      "cell_type": "markdown",
      "metadata": {
        "id": "jmpTNwuhaqS0"
      },
      "source": [
        "#### While\n",
        "\n",
        "The other type of loop in Python is a `while` loop, which iterates until\n",
        "some condition is met:"
      ],
      "id": "jmpTNwuhaqS0"
    },
    {
      "cell_type": "code",
      "execution_count": null,
      "metadata": {
        "id": "Q8rP9F_AaqS0"
      },
      "outputs": [],
      "source": [
        "i = 0\n",
        "while i < 10:\n",
        "    print(i, end=' ')\n",
        "    i += 1"
      ],
      "id": "Q8rP9F_AaqS0"
    },
    {
      "cell_type": "markdown",
      "metadata": {
        "id": "MagxKPfZaqS0"
      },
      "source": [
        "#### List comprehensions"
      ],
      "id": "MagxKPfZaqS0"
    },
    {
      "cell_type": "markdown",
      "metadata": {
        "id": "Ej79urGuaqS1"
      },
      "source": [
        "When programming, frequently we want to transform one type of data into\n",
        "another. As a simple example, consider the following code that computes\n",
        "square numbers:"
      ],
      "id": "Ej79urGuaqS1"
    },
    {
      "cell_type": "code",
      "execution_count": null,
      "metadata": {
        "id": "JKoowNJmaqS1"
      },
      "outputs": [],
      "source": [
        "nums = [0, 1, 2, 3, 4]\n",
        "squares = []\n",
        "for x in nums:\n",
        "    squares.append(x ** 2)\n",
        "print(squares)"
      ],
      "id": "JKoowNJmaqS1"
    },
    {
      "cell_type": "markdown",
      "metadata": {
        "id": "NIm_WX1haqS1"
      },
      "source": [
        "You can make this code simpler using a list comprehension:"
      ],
      "id": "NIm_WX1haqS1"
    },
    {
      "cell_type": "code",
      "execution_count": null,
      "metadata": {
        "id": "ZHgfO7cNaqS1"
      },
      "outputs": [],
      "source": [
        "nums = [0, 1, 2, 3, 4]\n",
        "squares = [x ** 2 for x in nums]\n",
        "print(squares)"
      ],
      "id": "ZHgfO7cNaqS1"
    },
    {
      "cell_type": "markdown",
      "metadata": {
        "id": "9LPD2YlyaqS2"
      },
      "source": [
        "List comprehensions can also contain conditions:"
      ],
      "id": "9LPD2YlyaqS2"
    },
    {
      "cell_type": "code",
      "execution_count": null,
      "metadata": {
        "id": "JqAedL1EaqS2"
      },
      "outputs": [],
      "source": [
        "nums = [0, 1, 2, 3, 4]\n",
        "even_squares = [x ** 2 for x in nums if x % 2 == 0]\n",
        "print(even_squares)"
      ],
      "id": "JqAedL1EaqS2"
    },
    {
      "cell_type": "markdown",
      "metadata": {
        "id": "PFb6NvAZaqS2"
      },
      "source": [
        "Dictionary comprehensions are similar to list comprehensions, but allow\n",
        "you to easily construct dictionaries. For example:"
      ],
      "id": "PFb6NvAZaqS2"
    },
    {
      "cell_type": "code",
      "execution_count": null,
      "metadata": {
        "id": "odrarD_WaqS3"
      },
      "outputs": [],
      "source": [
        "nums = [0, 1, 2, 3, 4]\n",
        "even_num_to_square = {x: x ** 2 for x in nums if x % 2 == 0}\n",
        "print(even_num_to_square)"
      ],
      "id": "odrarD_WaqS3"
    },
    {
      "cell_type": "markdown",
      "metadata": {
        "id": "9UAAPuoFaqS3"
      },
      "source": [
        "### Errors and Exceptions"
      ],
      "id": "9UAAPuoFaqS3"
    },
    {
      "cell_type": "markdown",
      "metadata": {
        "id": "bNxWFd7FaqS3"
      },
      "source": [
        "When you are working with Python, you are likely to come across errors.\n",
        "When an error occurs, Python tries to explain to you what went wrong,\n",
        "but it takes some experience to interpret the error messages."
      ],
      "id": "bNxWFd7FaqS3"
    },
    {
      "cell_type": "markdown",
      "metadata": {
        "id": "fK5L1LgsaqS3"
      },
      "source": [
        "The code in the following cell will raise a `SyntaxError` because it\n",
        "tries to use a variable name that begins with a number, which is not\n",
        "allowed in Python.\n",
        "\n",
        "Run the code, and look for three key “ingredients” in the error message\n",
        "that is printed to the output:\n",
        "\n",
        "-   the type of error. In this case, it will be a `SyntaxError`. This\n",
        "    type of error is raised by the *parser*, which checks to see if the\n",
        "    code is valid before passing it to the *runtime* to execute the\n",
        "    code.\n",
        "-   an explanation of the error, if available. In this case, the\n",
        "    explanation is “invalid syntax”.\n",
        "-   details about where the error was detected. At what line of code,\n",
        "    and what point in the line, did the error occur?"
      ],
      "id": "fK5L1LgsaqS3"
    },
    {
      "cell_type": "code",
      "execution_count": null,
      "metadata": {
        "id": "E5CVjV-xaqS4"
      },
      "outputs": [],
      "source": [
        "1st_number = 1"
      ],
      "id": "E5CVjV-xaqS4"
    },
    {
      "cell_type": "markdown",
      "metadata": {
        "id": "Ra7aKnShaqS4"
      },
      "source": [
        "Here are some more examples. Run the following cells, one at a time.\n",
        "Each will trigger an error message. Try to parse the error message by\n",
        "looking for the three “ingredients”.\n",
        "\n",
        "Look up each error type in [the\n",
        "documentation](https://docs.python.org/3/library/exceptions.html). Under\n",
        "what conditions is this error raised?"
      ],
      "id": "Ra7aKnShaqS4"
    },
    {
      "cell_type": "code",
      "execution_count": null,
      "metadata": {
        "id": "K4ips0k7aqS4"
      },
      "outputs": [],
      "source": [
        "x=0 \n",
        "x++"
      ],
      "id": "K4ips0k7aqS4"
    },
    {
      "cell_type": "code",
      "execution_count": null,
      "metadata": {
        "id": "XCqo12PLaqS4"
      },
      "outputs": [],
      "source": [
        "x=0\n",
        " x=x+1"
      ],
      "id": "XCqo12PLaqS4"
    },
    {
      "cell_type": "code",
      "execution_count": null,
      "metadata": {
        "id": "b0nsTLDwaqS4"
      },
      "outputs": [],
      "source": [
        "print('Hello'"
      ],
      "id": "b0nsTLDwaqS4"
    },
    {
      "cell_type": "code",
      "execution_count": null,
      "metadata": {
        "id": "pQKT1o-OaqS4"
      },
      "outputs": [],
      "source": [
        "1 + 'asdf'"
      ],
      "id": "pQKT1o-OaqS4"
    },
    {
      "cell_type": "code",
      "execution_count": null,
      "metadata": {
        "id": "vELyjaYUaqS5"
      },
      "outputs": [],
      "source": [
        "import NoSuchLibrary"
      ],
      "id": "vELyjaYUaqS5"
    },
    {
      "cell_type": "code",
      "execution_count": null,
      "metadata": {
        "id": "YXxrooFiaqS5"
      },
      "outputs": [],
      "source": [
        "print(xyz)"
      ],
      "id": "YXxrooFiaqS5"
    },
    {
      "cell_type": "code",
      "execution_count": null,
      "metadata": {
        "id": "gUGSnS_CaqS5"
      },
      "outputs": [],
      "source": [
        "x=0 \n",
        "5/x"
      ],
      "id": "gUGSnS_CaqS5"
    },
    {
      "cell_type": "markdown",
      "metadata": {
        "id": "iPsv3tFJaqS6"
      },
      "source": [
        "### Functions"
      ],
      "id": "iPsv3tFJaqS6"
    },
    {
      "cell_type": "markdown",
      "metadata": {
        "id": "FhA3pd97aqS6"
      },
      "source": [
        "Python functions are defined using the `def` keyword. For example:"
      ],
      "id": "FhA3pd97aqS6"
    },
    {
      "cell_type": "code",
      "execution_count": null,
      "metadata": {
        "id": "qST3Rpi4aqS6"
      },
      "outputs": [],
      "source": [
        "def sign(x):\n",
        "    if x > 0:\n",
        "        return 'positive'\n",
        "    elif x < 0:\n",
        "        return 'negative'\n",
        "    else:\n",
        "        return 'zero'\n",
        "\n",
        "for x in [-1, 0, 1]:\n",
        "    print(sign(x))"
      ],
      "id": "qST3Rpi4aqS6"
    },
    {
      "cell_type": "markdown",
      "metadata": {
        "id": "-3kMDOEwaqS7"
      },
      "source": [
        "We will often define functions to take optional keyword arguments, like\n",
        "this:"
      ],
      "id": "-3kMDOEwaqS7"
    },
    {
      "cell_type": "code",
      "execution_count": null,
      "metadata": {
        "id": "Ufrdv7nZaqS7"
      },
      "outputs": [],
      "source": [
        "def hello(name, loud=False):\n",
        "    if loud:\n",
        "        print('HELLO, {}'.format(name.upper()))\n",
        "    else:\n",
        "        print('Hello, {}!'.format(name))\n",
        "\n",
        "hello('Bob')\n",
        "hello('Fred', loud=True)"
      ],
      "id": "Ufrdv7nZaqS7"
    },
    {
      "cell_type": "markdown",
      "metadata": {
        "id": "3iGi99wbaqS7"
      },
      "source": [
        "### Classes"
      ],
      "id": "3iGi99wbaqS7"
    },
    {
      "cell_type": "markdown",
      "metadata": {
        "id": "G_uHMFOQaqS7"
      },
      "source": [
        "The syntax for defining classes in Python is straightforward:"
      ],
      "id": "G_uHMFOQaqS7"
    },
    {
      "cell_type": "code",
      "execution_count": null,
      "metadata": {
        "id": "_5l_C1C9aqS7"
      },
      "outputs": [],
      "source": [
        "class Greeter:\n",
        "\n",
        "    # Constructor\n",
        "    def __init__(self, name):\n",
        "        self.name = name  # Create an instance variable\n",
        "\n",
        "    # Instance method\n",
        "    def greet(self, loud=False):\n",
        "        if loud:\n",
        "          print('HELLO, {}'.format(self.name.upper()))\n",
        "        else:\n",
        "          print('Hello, {}!'.format(self.name))\n",
        "\n",
        "g = Greeter('Fred')  # Construct an instance of the Greeter class\n",
        "g.greet()            # Call an instance method; prints \"Hello, Fred\"\n",
        "g.greet(loud=True)   # Call an instance method; prints \"HELLO, FRED!\""
      ],
      "id": "_5l_C1C9aqS7"
    },
    {
      "cell_type": "markdown",
      "metadata": {
        "id": "fQ1TuRFgaqS8"
      },
      "source": [
        "Numpy\n",
        "-----"
      ],
      "id": "fQ1TuRFgaqS8"
    },
    {
      "cell_type": "markdown",
      "metadata": {
        "id": "3GHsryPYaqS8"
      },
      "source": [
        "Numpy is the core library for scientific computing in Python. It\n",
        "provides a high-performance multidimensional array object, and tools for\n",
        "working with these arrays. If you are already familiar with MATLAB, you\n",
        "might find this [tutorial](http://wiki.scipy.org/NumPy_for_Matlab_Users)\n",
        "useful to get started with Numpy."
      ],
      "id": "3GHsryPYaqS8"
    },
    {
      "cell_type": "markdown",
      "metadata": {
        "id": "oaRAM0kDaqS8"
      },
      "source": [
        "To use Numpy, we first need to import the `numpy` package. By\n",
        "convention, we import it using the alias `np`. Then, when we want to use\n",
        "modules or functions in this library, we preface them with `np.`"
      ],
      "id": "oaRAM0kDaqS8"
    },
    {
      "cell_type": "code",
      "execution_count": null,
      "metadata": {
        "id": "rHkVC2B_aqS8"
      },
      "outputs": [],
      "source": [
        "import numpy as np"
      ],
      "id": "rHkVC2B_aqS8"
    },
    {
      "cell_type": "markdown",
      "metadata": {
        "id": "i9YxEM6BaqS8"
      },
      "source": [
        "### Arrays and array construction"
      ],
      "id": "i9YxEM6BaqS8"
    },
    {
      "cell_type": "markdown",
      "metadata": {
        "id": "SeRQC4LtaqS8"
      },
      "source": [
        "A numpy array is a grid of values, all of the same type, and is indexed\n",
        "by a tuple of nonnegative integers. The number of dimensions is the rank\n",
        "of the array; the shape of an array is a tuple of integers giving the\n",
        "size of the array along each dimension."
      ],
      "id": "SeRQC4LtaqS8"
    },
    {
      "cell_type": "markdown",
      "metadata": {
        "id": "sftz3tCbaqS9"
      },
      "source": [
        "We can create a `numpy` array by passing a Python list to `np.array()`."
      ],
      "id": "sftz3tCbaqS9"
    },
    {
      "cell_type": "code",
      "execution_count": null,
      "metadata": {
        "id": "cqQZIPYaaqS9"
      },
      "outputs": [],
      "source": [
        "a = np.array([1, 2, 3])  # Create a rank 1 array"
      ],
      "id": "cqQZIPYaaqS9"
    },
    {
      "cell_type": "markdown",
      "metadata": {
        "id": "XX5cVLGnaqS9"
      },
      "source": [
        "This creates the array we can see on the right here:\n",
        "\n",
        "![](http://jalammar.github.io/images/numpy/create-numpy-array-1.png)"
      ],
      "id": "XX5cVLGnaqS9"
    },
    {
      "cell_type": "code",
      "execution_count": null,
      "metadata": {
        "id": "3MVAi086aqS9"
      },
      "outputs": [],
      "source": [
        "print(type(a), a.shape, a[0], a[1], a[2])\n",
        "a[0] = 5                 # Change an element of the array\n",
        "print(a)                  "
      ],
      "id": "3MVAi086aqS9"
    },
    {
      "cell_type": "markdown",
      "metadata": {
        "id": "6SC7uhW2aqS-"
      },
      "source": [
        "To create a `numpy` array with more dimensions, we can pass nested\n",
        "lists, like this:\n",
        "\n",
        "![](http://jalammar.github.io/images/numpy/numpy-array-create-2d.png)\n",
        "\n",
        "![](http://jalammar.github.io/images/numpy/numpy-3d-array.png)"
      ],
      "id": "6SC7uhW2aqS-"
    },
    {
      "cell_type": "code",
      "execution_count": null,
      "metadata": {
        "id": "cqMQKKAZaqS-"
      },
      "outputs": [],
      "source": [
        "b = np.array([[1,2],[3,4]])   # Create a rank 2 array\n",
        "print(b)"
      ],
      "id": "cqMQKKAZaqS-"
    },
    {
      "cell_type": "code",
      "execution_count": null,
      "metadata": {
        "id": "UlxP6CBTaqS-"
      },
      "outputs": [],
      "source": [
        "print(b.shape)"
      ],
      "id": "UlxP6CBTaqS-"
    },
    {
      "cell_type": "markdown",
      "metadata": {
        "id": "z9FAJKx-aqS-"
      },
      "source": [
        "There are often cases when we want numpy to initialize the values of the\n",
        "array for us. numpy provides methods like `ones()`, `zeros()`, and\n",
        "`random.random()` for these cases. We just pass them the number of\n",
        "elements we want it to generate:\n",
        "\n",
        "![](http://jalammar.github.io/images/numpy/create-numpy-array-ones-zeros-random.png)"
      ],
      "id": "z9FAJKx-aqS-"
    },
    {
      "cell_type": "markdown",
      "metadata": {
        "id": "IL30XqixaqS_"
      },
      "source": [
        "We can also use these methods to produce multi-dimensional arrays, as\n",
        "long as we pass them a tuple describing the dimensions of the matrix we\n",
        "want to create:\n",
        "\n",
        "![](http://jalammar.github.io/images/numpy/numpy-matrix-ones-zeros-random.png)\n",
        "\n",
        "![](http://jalammar.github.io/images/numpy/numpy-3d-array-creation.png)"
      ],
      "id": "IL30XqixaqS_"
    },
    {
      "cell_type": "markdown",
      "metadata": {
        "id": "tuFIR99CaqS_"
      },
      "source": [
        "Sometimes, we need an array of a specific shape with “placeholder”\n",
        "values that we plan to fill in with the result of a computation. The\n",
        "`zeros` or `ones` functions are handy for this:"
      ],
      "id": "tuFIR99CaqS_"
    },
    {
      "cell_type": "code",
      "execution_count": null,
      "metadata": {
        "id": "aFDr_vnDaqS_"
      },
      "outputs": [],
      "source": [
        "a = np.zeros((2,2))  # Create an array of all zeros\n",
        "print(a)"
      ],
      "id": "aFDr_vnDaqS_"
    },
    {
      "cell_type": "code",
      "execution_count": null,
      "metadata": {
        "id": "pLmwfd8GaqS_"
      },
      "outputs": [],
      "source": [
        "b = np.ones((1,2))   # Create an array of all ones\n",
        "print(b)"
      ],
      "id": "pLmwfd8GaqS_"
    },
    {
      "cell_type": "code",
      "execution_count": null,
      "metadata": {
        "id": "vaRc5nAXaqTB"
      },
      "outputs": [],
      "source": [
        "c = np.full((2,2), 7) # Create a constant array\n",
        "print(c)"
      ],
      "id": "vaRc5nAXaqTB"
    },
    {
      "cell_type": "code",
      "execution_count": null,
      "metadata": {
        "id": "6ZdqTfaxaqTC"
      },
      "outputs": [],
      "source": [
        "d = np.eye(2)        # Create a 2x2 identity matrix\n",
        "print(d)"
      ],
      "id": "6ZdqTfaxaqTC"
    },
    {
      "cell_type": "code",
      "execution_count": null,
      "metadata": {
        "id": "NQn0snoXaqTC"
      },
      "outputs": [],
      "source": [
        "e = np.random.random((2,2)) # Create an array filled with random values\n",
        "print(e)"
      ],
      "id": "NQn0snoXaqTC"
    },
    {
      "cell_type": "markdown",
      "metadata": {
        "id": "-g-kEwQIaqTC"
      },
      "source": [
        "Lastly, I want to mention two very useful functions for creating\n",
        "sequences of numbers within a specified range, namely, arange and\n",
        "linspace. NumPy’s arange function follows the same syntax as Python’s\n",
        "range objects: If two arguments are provided, the first argument\n",
        "represents the start value and the second value defines the stop value\n",
        "of a half-open interval:"
      ],
      "id": "-g-kEwQIaqTC"
    },
    {
      "cell_type": "markdown",
      "metadata": {
        "id": "4OEbSm38aqTC"
      },
      "source": [
        "Numpy also has two useful functions for creating sequences of numbers:\n",
        "`arange` and `linspace`.\n",
        "\n",
        "The `arange` function accepts three arguments, which define the start\n",
        "value, stop value of a half-open interval, and step size. (The default\n",
        "step size, if not explicitly specified, is 1; the default start value,\n",
        "if not explicitly specified, is 0.)\n",
        "\n",
        "The `linspace` function is similar, but we can specify the number of\n",
        "values instead of the step size, and it will create a sequence of evenly\n",
        "spaced values."
      ],
      "id": "4OEbSm38aqTC"
    },
    {
      "cell_type": "code",
      "execution_count": null,
      "metadata": {
        "id": "JUOrhShEaqTC"
      },
      "outputs": [],
      "source": [
        "f = np.arange(10,50,5)   # Create an array of values starting at 10 in increments of 5\n",
        "print(f)"
      ],
      "id": "JUOrhShEaqTC"
    },
    {
      "cell_type": "markdown",
      "metadata": {
        "id": "q-RhMVLoaqTC"
      },
      "source": [
        "Note this ends on 45, not 50 (does not include the top end of the\n",
        "interval)."
      ],
      "id": "q-RhMVLoaqTC"
    },
    {
      "cell_type": "code",
      "execution_count": null,
      "metadata": {
        "id": "wEQ3NbXHaqTD"
      },
      "outputs": [],
      "source": [
        "g = np.linspace(0., 1., num=5)\n",
        "print(g)"
      ],
      "id": "wEQ3NbXHaqTD"
    },
    {
      "cell_type": "markdown",
      "metadata": {
        "id": "xdYojlswaqTD"
      },
      "source": [
        "Sometimes, we may want to construct an array from existing arrays by\n",
        "“stacking” the existing arrays, either vertically or horizontally. We\n",
        "can use `vstack()` (or `row_stack`) and `hstack()` (or `column_stack`),\n",
        "respectively."
      ],
      "id": "xdYojlswaqTD"
    },
    {
      "cell_type": "code",
      "execution_count": null,
      "metadata": {
        "id": "Xug35PTfaqTD"
      },
      "outputs": [],
      "source": [
        "a = np.array([1, 2, 3])\n",
        "b = np.array([4, 5, 6])\n",
        "np.vstack((a,b))"
      ],
      "id": "Xug35PTfaqTD"
    },
    {
      "cell_type": "code",
      "execution_count": null,
      "metadata": {
        "id": "3SrU95iRaqTD"
      },
      "outputs": [],
      "source": [
        "a = np.array([[7], [8], [9]])\n",
        "b = np.array([[4], [5], [6]])\n",
        "np.hstack((a,b))"
      ],
      "id": "3SrU95iRaqTD"
    },
    {
      "cell_type": "markdown",
      "metadata": {
        "id": "jolrcClPaqTD"
      },
      "source": [
        "### Array indexing"
      ],
      "id": "jolrcClPaqTD"
    },
    {
      "cell_type": "markdown",
      "metadata": {
        "id": "Z_nRUChFaqTD"
      },
      "source": [
        "Numpy offers several ways to index into arrays."
      ],
      "id": "Z_nRUChFaqTD"
    },
    {
      "cell_type": "markdown",
      "metadata": {
        "id": "k-aJboQjaqTD"
      },
      "source": [
        "We can index and slice numpy arrays in all the ways we can slice Python\n",
        "lists:\n",
        "\n",
        "![](http://jalammar.github.io/images/numpy/numpy-array-slice.png)\n",
        "\n",
        "And you can index and slice numpy arrays in multiple dimensions. If\n",
        "slicing an array with more than one dimension, you should specify a\n",
        "slice for each dimension:\n",
        "\n",
        "![](http://jalammar.github.io/images/numpy/numpy-matrix-indexing.png)"
      ],
      "id": "k-aJboQjaqTD"
    },
    {
      "cell_type": "code",
      "execution_count": null,
      "metadata": {
        "id": "K7FhBwXraqTE"
      },
      "outputs": [],
      "source": [
        "# Create the following rank 2 array with shape (3, 4)\n",
        "# [[ 1  2  3  4]\n",
        "#  [ 5  6  7  8]\n",
        "#  [ 9 10 11 12]]\n",
        "a = np.array([[1,2,3,4], [5,6,7,8], [9,10,11,12]])\n",
        "\n",
        "# Use slicing to pull out the subarray consisting of the first 2 rows\n",
        "# and columns 1 and 2; b is the following array of shape (2, 2):\n",
        "# [[2 3]\n",
        "#  [6 7]]\n",
        "b = a[:2, 1:3]\n",
        "print(b)"
      ],
      "id": "K7FhBwXraqTE"
    },
    {
      "cell_type": "markdown",
      "metadata": {
        "id": "AZ5xEUgxaqTE"
      },
      "source": [
        "A slice of an array is a view into the same data, so modifying it will\n",
        "modify the original array."
      ],
      "id": "AZ5xEUgxaqTE"
    },
    {
      "cell_type": "code",
      "execution_count": null,
      "metadata": {
        "id": "W8SVYvNgaqTE"
      },
      "outputs": [],
      "source": [
        "print(a[0, 1])\n",
        "b[0, 0] = 77    # b[0, 0] is the same piece of data as a[0, 1]\n",
        "print(a[0, 1]) "
      ],
      "id": "W8SVYvNgaqTE"
    },
    {
      "cell_type": "markdown",
      "metadata": {
        "id": "eVsDGzjyaqTE"
      },
      "source": [
        "You can also mix integer indexing with slice indexing. However, doing so\n",
        "will yield an array of lower rank than the original array. Note that\n",
        "this is quite different from the way that MATLAB handles array slicing:"
      ],
      "id": "eVsDGzjyaqTE"
    },
    {
      "cell_type": "code",
      "execution_count": null,
      "metadata": {
        "id": "i4BxDq6qaqTE"
      },
      "outputs": [],
      "source": [
        "# Create the following rank 2 array with shape (3, 4)\n",
        "a = np.array([[1,2,3,4], [5,6,7,8], [9,10,11,12]])\n",
        "print(a)"
      ],
      "id": "i4BxDq6qaqTE"
    },
    {
      "cell_type": "markdown",
      "metadata": {
        "id": "Yz4uFO0CaqTF"
      },
      "source": [
        "Two ways of accessing the data in the middle row of the array. Mixing\n",
        "integer indexing with slices yields an array of lower rank, while using\n",
        "only slices yields an array of the same rank as the original array:"
      ],
      "id": "Yz4uFO0CaqTF"
    },
    {
      "cell_type": "code",
      "execution_count": null,
      "metadata": {
        "id": "cuStcMBVaqTF"
      },
      "outputs": [],
      "source": [
        "row_r1 = a[1, :]    # Rank 1 view of the second row of a  \n",
        "row_r2 = a[1:2, :]  # Rank 2 view of the second row of a\n",
        "row_r3 = a[[1], :]  # Rank 2 view of the second row of a\n",
        "print(row_r1, row_r1.shape)\n",
        "print(row_r2, row_r2.shape)\n",
        "print(row_r3, row_r3.shape)"
      ],
      "id": "cuStcMBVaqTF"
    },
    {
      "cell_type": "code",
      "execution_count": null,
      "metadata": {
        "id": "43NRv7MuaqTF"
      },
      "outputs": [],
      "source": [
        "# We can make the same distinction when accessing columns of an array:\n",
        "col_r1 = a[:, 1]\n",
        "col_r2 = a[:, 1:2]\n",
        "print(col_r1, col_r1.shape)\n",
        "print()\n",
        "print(col_r2, col_r2.shape)"
      ],
      "id": "43NRv7MuaqTF"
    },
    {
      "cell_type": "markdown",
      "metadata": {
        "id": "LppyEyobaqTF"
      },
      "source": [
        "Integer array indexing: When you index into numpy arrays using slicing,\n",
        "the resulting array view will always be a subarray of the original\n",
        "array. In contrast, integer array indexing allows you to construct\n",
        "arbitrary arrays using the data from another array. Here is an example:"
      ],
      "id": "LppyEyobaqTF"
    },
    {
      "cell_type": "code",
      "execution_count": null,
      "metadata": {
        "id": "7ujPxrtXaqTF"
      },
      "outputs": [],
      "source": [
        "a = np.array([[1,2], [3, 4], [5, 6]])\n",
        "\n",
        "# An example of integer array indexing.\n",
        "# The returned array will have shape (3,) and \n",
        "print(a[[0, 1, 2], [0, 1, 0]])\n",
        "\n",
        "# The above example of integer array indexing is equivalent to this:\n",
        "print(np.array([a[0, 0], a[1, 1], a[2, 0]]))"
      ],
      "id": "7ujPxrtXaqTF"
    },
    {
      "cell_type": "code",
      "execution_count": null,
      "metadata": {
        "id": "ESDKzrEkaqTG"
      },
      "outputs": [],
      "source": [
        "# When using integer array indexing, you can reuse the same\n",
        "# element from the source array:\n",
        "print(a[[0, 0], [1, 1]])\n",
        "\n",
        "# Equivalent to the previous integer array indexing example\n",
        "print(np.array([a[0, 1], a[0, 1]]))"
      ],
      "id": "ESDKzrEkaqTG"
    },
    {
      "cell_type": "markdown",
      "metadata": {
        "id": "mfmz33XVaqTG"
      },
      "source": [
        "One useful trick with integer array indexing is selecting or mutating\n",
        "one element from each row of a matrix:"
      ],
      "id": "mfmz33XVaqTG"
    },
    {
      "cell_type": "code",
      "execution_count": null,
      "metadata": {
        "id": "0qFLAxHraqTG"
      },
      "outputs": [],
      "source": [
        "# Create a new array from which we will select elements\n",
        "a = np.array([[1,2,3], [4,5,6], [7,8,9], [10, 11, 12]])\n",
        "print(a)"
      ],
      "id": "0qFLAxHraqTG"
    },
    {
      "cell_type": "code",
      "execution_count": null,
      "metadata": {
        "id": "5jTOZgTWaqTG"
      },
      "outputs": [],
      "source": [
        "# Create an array of indices\n",
        "b = np.array([0, 2, 0, 1])\n",
        "\n",
        "# Select one element from each row of a using the indices in b\n",
        "print(a[np.arange(4), b])  # Prints \"[ 1  6  7 11]\""
      ],
      "id": "5jTOZgTWaqTG"
    },
    {
      "cell_type": "code",
      "execution_count": null,
      "metadata": {
        "id": "bEUBFtTbaqTG"
      },
      "outputs": [],
      "source": [
        "# Mutate one element from each row of a using the indices in b\n",
        "a[np.arange(4), b] += 10\n",
        "print(a)"
      ],
      "id": "bEUBFtTbaqTG"
    },
    {
      "cell_type": "markdown",
      "metadata": {
        "id": "6UGXBtAKaqTH"
      },
      "source": [
        "Boolean array indexing: Boolean array indexing lets you pick out\n",
        "arbitrary elements of an array. Frequently this type of indexing is used\n",
        "to select the elements of an array that satisfy some condition. Here is\n",
        "an example:"
      ],
      "id": "6UGXBtAKaqTH"
    },
    {
      "cell_type": "code",
      "execution_count": null,
      "metadata": {
        "id": "DAEAO4iwaqTH"
      },
      "outputs": [],
      "source": [
        "import numpy as np\n",
        "\n",
        "a = np.array([[1,2], [3, 4], [5, 6]])\n",
        "\n",
        "bool_idx = (a > 2)  # Find the elements of a that are bigger than 2;\n",
        "                    # this returns a numpy array of Booleans of the same\n",
        "                    # shape as a, where each slot of bool_idx tells\n",
        "                    # whether that element of a is > 2.\n",
        "\n",
        "print(bool_idx)"
      ],
      "id": "DAEAO4iwaqTH"
    },
    {
      "cell_type": "code",
      "execution_count": null,
      "metadata": {
        "id": "IHfKgbEHaqTH"
      },
      "outputs": [],
      "source": [
        "# We use boolean array indexing to construct a rank 1 array\n",
        "# consisting of the elements of a corresponding to the True values\n",
        "# of bool_idx\n",
        "print(a[bool_idx])\n",
        "\n",
        "# We can do all of the above in a single concise statement:\n",
        "print(a[a > 2])"
      ],
      "id": "IHfKgbEHaqTH"
    },
    {
      "cell_type": "markdown",
      "metadata": {
        "id": "_y0iLmaHaqTI"
      },
      "source": [
        "For brevity we have left out a lot of details about numpy array\n",
        "indexing; if you want to know more you should read the documentation."
      ],
      "id": "_y0iLmaHaqTI"
    },
    {
      "cell_type": "markdown",
      "metadata": {
        "id": "Vt3Qx4KzaqTI"
      },
      "source": [
        "### Datatypes"
      ],
      "id": "Vt3Qx4KzaqTI"
    },
    {
      "cell_type": "markdown",
      "metadata": {
        "id": "3FcC1K0NaqTI"
      },
      "source": [
        "Every numpy array is a grid of elements of the same type. Numpy provides\n",
        "a large set of numeric datatypes that you can use to construct arrays.\n",
        "Numpy tries to guess a datatype when you create an array, but functions\n",
        "that construct arrays usually also include an optional argument to\n",
        "explicitly specify the datatype. Here is an example:"
      ],
      "id": "3FcC1K0NaqTI"
    },
    {
      "cell_type": "code",
      "execution_count": null,
      "metadata": {
        "id": "kS9IQK0BaqTI"
      },
      "outputs": [],
      "source": [
        "x = np.array([1, 2])  # Let numpy choose the datatype\n",
        "y = np.array([1.0, 2.0])  # Let numpy choose the datatype\n",
        "z = np.array([1, 2], dtype=np.int64)  # Force a particular datatype\n",
        "\n",
        "print(x.dtype, y.dtype, z.dtype)"
      ],
      "id": "kS9IQK0BaqTI"
    },
    {
      "cell_type": "markdown",
      "metadata": {
        "id": "92Xqx4r2aqTI"
      },
      "source": [
        "You can read all about numpy datatypes in the\n",
        "[documentation](http://docs.scipy.org/doc/numpy/reference/arrays.dtypes.html)."
      ],
      "id": "92Xqx4r2aqTI"
    },
    {
      "cell_type": "markdown",
      "metadata": {
        "id": "Bv4NNmwcaqTJ"
      },
      "source": [
        "### Array math"
      ],
      "id": "Bv4NNmwcaqTJ"
    },
    {
      "cell_type": "markdown",
      "metadata": {
        "id": "3a1Acud-aqTJ"
      },
      "source": [
        "What makes working with `numpy` so powerful and convenient is that it\n",
        "comes with many *vectorized* math functions for computation over\n",
        "elements of an array. These functions are highly optimized and are\n",
        "*very* fast - much, much faster than using an explicit `for` loop.\n",
        "\n",
        "For example, let’s create a large array of random values and then sum it\n",
        "both ways. We’ll use a `%%time` *cell magic* to time them."
      ],
      "id": "3a1Acud-aqTJ"
    },
    {
      "cell_type": "code",
      "execution_count": null,
      "metadata": {
        "id": "na_UNampaqTJ"
      },
      "outputs": [],
      "source": [
        "a = np.random.random(100000000)"
      ],
      "id": "na_UNampaqTJ"
    },
    {
      "cell_type": "code",
      "execution_count": null,
      "metadata": {
        "id": "VjLWBsvNaqTJ"
      },
      "outputs": [],
      "source": [
        "%%time\n",
        "x = np.sum(a)"
      ],
      "id": "VjLWBsvNaqTJ"
    },
    {
      "cell_type": "code",
      "execution_count": null,
      "metadata": {
        "id": "k0Pr6CmnaqTK"
      },
      "outputs": [],
      "source": [
        "%%time\n",
        "x = 0 \n",
        "for element in a:\n",
        "  x = x + element"
      ],
      "id": "k0Pr6CmnaqTK"
    },
    {
      "cell_type": "markdown",
      "metadata": {
        "id": "kOydp-QEaqTK"
      },
      "source": [
        "Look at the “Wall Time” in the output - note how much faster the\n",
        "vectorized version of the operation is! This type of fast computation is\n",
        "a major enabler of machine learning, which requires a *lot* of\n",
        "computation.\n",
        "\n",
        "Whenever possible, we will try to use these vectorized operations."
      ],
      "id": "kOydp-QEaqTK"
    },
    {
      "cell_type": "markdown",
      "metadata": {
        "id": "ZrdzyeBeaqTK"
      },
      "source": [
        "Some mathematic functions are available both as operator overloads and\n",
        "as functions in the numpy module."
      ],
      "id": "ZrdzyeBeaqTK"
    },
    {
      "cell_type": "markdown",
      "metadata": {
        "id": "MEK8XBUvaqTL"
      },
      "source": [
        "For example, you can perform an elementwise sum on two arrays using\n",
        "either the + operator or the `add()` function.\n",
        "\n",
        "![](http://jalammar.github.io/images/numpy/numpy-arrays-adding-1.png)\n",
        "\n",
        "![](http://jalammar.github.io/images/numpy/numpy-matrix-arithmetic.png)"
      ],
      "id": "MEK8XBUvaqTL"
    },
    {
      "cell_type": "code",
      "execution_count": null,
      "metadata": {
        "id": "13If_rOnaqTL"
      },
      "outputs": [],
      "source": [
        "x = np.array([[1,2],[3,4]], dtype=np.float64)\n",
        "y = np.array([[5,6],[7,8]], dtype=np.float64)\n",
        "\n",
        "# Elementwise sum; both produce the array\n",
        "print(x + y)\n",
        "print(np.add(x, y))"
      ],
      "id": "13If_rOnaqTL"
    },
    {
      "cell_type": "markdown",
      "metadata": {
        "id": "Fk0xdQp0aqTL"
      },
      "source": [
        "And this works for other operations as well, not only addition:\n",
        "\n",
        "![](http://jalammar.github.io/images/numpy/numpy-array-subtract-multiply-divide.png)"
      ],
      "id": "Fk0xdQp0aqTL"
    },
    {
      "cell_type": "code",
      "execution_count": null,
      "metadata": {
        "id": "q_E8gdY4aqTM"
      },
      "outputs": [],
      "source": [
        "# Elementwise difference; both produce the array\n",
        "print(x - y)\n",
        "print(np.subtract(x, y))"
      ],
      "id": "q_E8gdY4aqTM"
    },
    {
      "cell_type": "code",
      "execution_count": null,
      "metadata": {
        "id": "qUGQoZfKaqTM"
      },
      "outputs": [],
      "source": [
        "# Elementwise product; both produce the array\n",
        "print(x * y)\n",
        "print(np.multiply(x, y))"
      ],
      "id": "qUGQoZfKaqTM"
    },
    {
      "cell_type": "code",
      "execution_count": null,
      "metadata": {
        "id": "TC3KzxbgaqTM"
      },
      "outputs": [],
      "source": [
        "# Elementwise division; both produce the array\n",
        "# [[ 0.2         0.33333333]\n",
        "#  [ 0.42857143  0.5       ]]\n",
        "print(x / y)\n",
        "print(np.divide(x, y))"
      ],
      "id": "TC3KzxbgaqTM"
    },
    {
      "cell_type": "code",
      "execution_count": null,
      "metadata": {
        "id": "pXc1i29vaqTN"
      },
      "outputs": [],
      "source": [
        "# Elementwise square root; produces the array\n",
        "# [[ 1.          1.41421356]\n",
        "#  [ 1.73205081  2.        ]]\n",
        "print(np.sqrt(x))"
      ],
      "id": "pXc1i29vaqTN"
    },
    {
      "cell_type": "markdown",
      "metadata": {
        "id": "dCQEuwcSaqTN"
      },
      "source": [
        "Note that unlike MATLAB, `*` is elementwise multiplication, not matrix\n",
        "multiplication. We instead use the `dot()` function to compute inner\n",
        "products of vectors, to multiply a vector by a matrix, and to multiply\n",
        "matrices. `dot()` is available both as a function in the numpy module\n",
        "and as an instance method of array objects:\n",
        "\n",
        "![](http://jalammar.github.io/images/numpy/numpy-matrix-dot-product-1.png)"
      ],
      "id": "dCQEuwcSaqTN"
    },
    {
      "cell_type": "code",
      "execution_count": null,
      "metadata": {
        "id": "zqbvROSiaqTN"
      },
      "outputs": [],
      "source": [
        "x = np.array([[1,2],[3,4]])\n",
        "y = np.array([[5,6],[7,8]])\n",
        "\n",
        "v = np.array([9,10])\n",
        "w = np.array([11, 12])\n",
        "\n",
        "# Inner product of vectors; both produce 219\n",
        "print(v.dot(w))\n",
        "print(np.dot(v, w))"
      ],
      "id": "zqbvROSiaqTN"
    },
    {
      "cell_type": "markdown",
      "metadata": {
        "id": "XXGSUlzQaqTN"
      },
      "source": [
        "You can also use the `@` operator which is equivalent to numpy's `dot`\n",
        "operator."
      ],
      "id": "XXGSUlzQaqTN"
    },
    {
      "cell_type": "code",
      "execution_count": null,
      "metadata": {
        "id": "m3G0Cv_7aqTO"
      },
      "outputs": [],
      "source": [
        "print(v @ w)"
      ],
      "id": "m3G0Cv_7aqTO"
    },
    {
      "cell_type": "code",
      "execution_count": null,
      "metadata": {
        "id": "UC-bscgpaqTO"
      },
      "outputs": [],
      "source": [
        "# Matrix / vector product; both produce the rank 1 array [29 67]\n",
        "print(x.dot(v))\n",
        "print(np.dot(x, v))\n",
        "print(x @ v)"
      ],
      "id": "UC-bscgpaqTO"
    },
    {
      "cell_type": "code",
      "execution_count": null,
      "metadata": {
        "id": "Ru7VSeImaqTO"
      },
      "outputs": [],
      "source": [
        "# Matrix / matrix product; both produce the rank 2 array\n",
        "# [[19 22]\n",
        "#  [43 50]]\n",
        "print(x.dot(y))\n",
        "print(np.dot(x, y))\n",
        "print(x @ y)"
      ],
      "id": "Ru7VSeImaqTO"
    },
    {
      "cell_type": "markdown",
      "metadata": {
        "id": "zEw5dTZSaqTO"
      },
      "source": [
        "Besides for the functions that overload operators, Numpy also provides\n",
        "many useful functions for performing computations on arrays, such as\n",
        "`min()`, `max()`, `sum()`, and others:\n",
        "\n",
        "![](http://jalammar.github.io/images/numpy/numpy-matrix-aggregation-1.png)"
      ],
      "id": "zEw5dTZSaqTO"
    },
    {
      "cell_type": "code",
      "execution_count": null,
      "metadata": {
        "id": "QKdDwMOuaqTP"
      },
      "outputs": [],
      "source": [
        "x = np.array([[1, 2], [3, 4], [5, 6]])\n",
        "\n",
        "print(np.max(x))  # Compute sum of all elements; prints \"21\"\n",
        "print(np.min(x))  # Compute sum of all elements; prints \"21\"\n",
        "print(np.sum(x))  # Compute sum of all elements; prints \"21\""
      ],
      "id": "QKdDwMOuaqTP"
    },
    {
      "cell_type": "markdown",
      "metadata": {
        "id": "e_X2W8QnaqTP"
      },
      "source": [
        "Not only can we aggregate all the values in a matrix using these\n",
        "functions, but we can also aggregate across the rows or columns by using\n",
        "the `axis` parameter:\n",
        "\n",
        "![](http://jalammar.github.io/images/numpy/numpy-matrix-aggregation-4.png)"
      ],
      "id": "e_X2W8QnaqTP"
    },
    {
      "cell_type": "code",
      "execution_count": null,
      "metadata": {
        "id": "ZxmYzUIFaqTP"
      },
      "outputs": [],
      "source": [
        "x = np.array([[1, 2], [5, 3], [4, 6]])\n",
        "\n",
        "print(np.max(x, axis=0))  # Compute max of each column; prints \"[5 6]\"\n",
        "print(np.max(x, axis=1))  # Compute max of each row; prints \"[2 5 6]\""
      ],
      "id": "ZxmYzUIFaqTP"
    },
    {
      "cell_type": "markdown",
      "metadata": {
        "id": "MWynGDMEaqTP"
      },
      "source": [
        "You can find the full list of mathematical functions provided by numpy\n",
        "in the\n",
        "[documentation](http://docs.scipy.org/doc/numpy/reference/routines.math.html)."
      ],
      "id": "MWynGDMEaqTP"
    },
    {
      "cell_type": "markdown",
      "metadata": {
        "id": "PP7P5QLTaqTQ"
      },
      "source": [
        "Apart from computing mathematical functions using arrays, we frequently\n",
        "need to reshape or otherwise manipulate data in arrays. The simplest\n",
        "example of this type of operation is transposing a matrix; to transpose\n",
        "a matrix, simply use the T attribute of an array object.\n",
        "\n",
        "![](http://jalammar.github.io/images/numpy/numpy-transpose.png)"
      ],
      "id": "PP7P5QLTaqTQ"
    },
    {
      "cell_type": "code",
      "execution_count": null,
      "metadata": {
        "id": "EXVGkasgaqTQ"
      },
      "outputs": [],
      "source": [
        "x = np.array([[1, 2], [3, 4], [5, 6]])\n",
        "\n",
        "print(x)\n",
        "print(\"transpose\\n\", x.T)"
      ],
      "id": "EXVGkasgaqTQ"
    },
    {
      "cell_type": "code",
      "execution_count": null,
      "metadata": {
        "id": "5mJGyieYaqTQ"
      },
      "outputs": [],
      "source": [
        "v = np.array([[1,2,3]])\n",
        "print(v )\n",
        "print(\"transpose\\n\", v.T)"
      ],
      "id": "5mJGyieYaqTQ"
    },
    {
      "cell_type": "markdown",
      "metadata": {
        "id": "bkux3fYnaqTQ"
      },
      "source": [
        "In more advanced use case, you may find yourself needing to change the\n",
        "dimensions of a certain matrix. This is often the case in machine\n",
        "learning applications where a certain model expects a certain shape for\n",
        "the inputs that is different from your dataset. numpy's `reshape()`\n",
        "method is useful in these cases.\n",
        "\n",
        "![](http://jalammar.github.io/images/numpy/numpy-reshape.png)"
      ],
      "id": "bkux3fYnaqTQ"
    },
    {
      "cell_type": "markdown",
      "metadata": {
        "id": "yarweDemaqTQ"
      },
      "source": [
        "A common task in this class will be to convert a 1D array to a 2D array,\n",
        "and vice versa. We can use `reshape()` for this."
      ],
      "id": "yarweDemaqTQ"
    },
    {
      "cell_type": "markdown",
      "metadata": {
        "id": "3EKQQJEjaqTR"
      },
      "source": [
        "For example, suppose we had this 2D array, but we need to pass it to a\n",
        "function that expects a 1D array."
      ],
      "id": "3EKQQJEjaqTR"
    },
    {
      "cell_type": "code",
      "execution_count": null,
      "metadata": {
        "id": "Oqr0zHD1aqTR"
      },
      "outputs": [],
      "source": [
        "w = np.array([[1],[2],[3]])\n",
        "print(w)\n",
        "w.shape"
      ],
      "id": "Oqr0zHD1aqTR"
    },
    {
      "cell_type": "markdown",
      "metadata": {
        "id": "GZFqk5wfaqTR"
      },
      "source": [
        "We can remove the “unnecessary” extra dimension with"
      ],
      "id": "GZFqk5wfaqTR"
    },
    {
      "cell_type": "code",
      "execution_count": null,
      "metadata": {
        "id": "HgQ4ckm2aqTR"
      },
      "outputs": [],
      "source": [
        "y = w.reshape(-1,)\n",
        "print(y)\n",
        "y.shape"
      ],
      "id": "HgQ4ckm2aqTR"
    },
    {
      "cell_type": "markdown",
      "metadata": {
        "id": "245b7nJgaqTR"
      },
      "source": [
        "Note that we can pass -1 as one dimension and numpy will infer the\n",
        "correct size based on our matrix size!\n",
        "\n",
        "There’s also a `squeeze()` function that removes *all* of the\n",
        "“unnecessary” dimensions (dimensions that have size 1) from an array:"
      ],
      "id": "245b7nJgaqTR"
    },
    {
      "cell_type": "code",
      "execution_count": null,
      "metadata": {
        "id": "4jCP2VU_aqTR"
      },
      "outputs": [],
      "source": [
        "z = w.squeeze()\n",
        "print(z)\n",
        "z.shape"
      ],
      "id": "4jCP2VU_aqTR"
    },
    {
      "cell_type": "markdown",
      "metadata": {
        "id": "K53mgVL8aqTT"
      },
      "source": [
        "To go from a 1D to 2D array, we can just add in another dimension of\n",
        "size 1:"
      ],
      "id": "K53mgVL8aqTT"
    },
    {
      "cell_type": "code",
      "execution_count": null,
      "metadata": {
        "id": "DzJ0r3doaqTT"
      },
      "outputs": [],
      "source": [
        "y.reshape((-1,1))"
      ],
      "id": "DzJ0r3doaqTT"
    },
    {
      "cell_type": "markdown",
      "metadata": {
        "id": "vNQbU0kEaqTU"
      },
      "source": [
        "### Broadcasting"
      ],
      "id": "vNQbU0kEaqTU"
    },
    {
      "cell_type": "markdown",
      "metadata": {
        "id": "aSnAugjQaqTU"
      },
      "source": [
        "Broadcasting is a powerful mechanism that allows numpy to work with\n",
        "arrays of different shapes when performing arithmetic operations."
      ],
      "id": "aSnAugjQaqTU"
    },
    {
      "cell_type": "markdown",
      "metadata": {
        "id": "OcVnyWOsaqTU"
      },
      "source": [
        "For example: basic linear algebra, we can only add (and perform similar\n",
        "element-wise operations) two matrics that have the *same* dimension. In\n",
        "numpy, if we want to add two matrics that have different dimensions,\n",
        "numpy will implicitly “extend” the dimension of one matrix to match the\n",
        "other so that we can perform the operation.\n",
        "\n",
        "So these operations will work, instead of returning an error:\n",
        "\n",
        "![](https://sebastianraschka.com/images/blog/2020/numpy-intro/broadcasting-1.png)\n",
        "\n",
        "![](https://sebastianraschka.com/images/blog/2020/numpy-intro/broadcasting-2.png)"
      ],
      "id": "OcVnyWOsaqTU"
    },
    {
      "cell_type": "markdown",
      "metadata": {
        "id": "3s_0teZuaqTU"
      },
      "source": [
        "Broadcasting two arrays together follows these rules:\n",
        "\n",
        "**Rule 1**: If the two arrays differ in their number of dimensions, the\n",
        "shape of the one with fewer dimensions is padded with ones on its\n",
        "leading (left) side.\n",
        "\n",
        "For example, in the following cell, `a` will be implicitly extended to\n",
        "shape (1,3):"
      ],
      "id": "3s_0teZuaqTU"
    },
    {
      "cell_type": "code",
      "execution_count": null,
      "metadata": {
        "id": "lwMDsErCaqTU"
      },
      "outputs": [],
      "source": [
        "a = np.array([1,2,3])         # has shape (3,): one dimension\n",
        "b = np.array([[4], [5], [6]]) # has shape (3,1): two dimensions\n",
        "c = a + b                     # will have shape (3,3) (two dimensions)"
      ],
      "id": "lwMDsErCaqTU"
    },
    {
      "cell_type": "markdown",
      "metadata": {
        "id": "168IrOZ7aqTU"
      },
      "source": [
        "**Rule 2**: If the shape of the two arrays does not match in any\n",
        "dimension, the array with shape equal to 1 in that dimension is\n",
        "stretched to match the other shape.\n",
        "\n",
        "For example, in the following cell `a` will be implicitly extended to\n",
        "shape (3,2):"
      ],
      "id": "168IrOZ7aqTU"
    },
    {
      "cell_type": "code",
      "execution_count": null,
      "metadata": {
        "id": "DAE5IwMhaqTV"
      },
      "outputs": [],
      "source": [
        "a = np.array([[1],[2],[3]])         # has shape (3,1)\n",
        "b = np.array([[4,5], [6,7], [8,9]]) # has shape (3,2)\n",
        "c = a + b                           # will have shape (3,2) "
      ],
      "id": "DAE5IwMhaqTV"
    },
    {
      "cell_type": "markdown",
      "metadata": {
        "id": "ZjicKohLaqTV"
      },
      "source": [
        "**Rule 3**: If in any dimension the sizes disagree and neither is equal\n",
        "to 1, an error is raised:"
      ],
      "id": "ZjicKohLaqTV"
    },
    {
      "cell_type": "code",
      "execution_count": null,
      "metadata": {
        "id": "wX8cA3L4aqTV"
      },
      "outputs": [],
      "source": [
        "a = np.array([[1],[2],[3],[4]])      # has shape (4,1)\n",
        "b = np.array([[4,5], [6,7], [8,9]])  # has shape (3,2)\n",
        "c = a + b                            # ValueError: operands could not be broadcast"
      ],
      "id": "wX8cA3L4aqTV"
    },
    {
      "cell_type": "markdown",
      "metadata": {
        "id": "SyO72uR-aqTV"
      },
      "source": [
        "For more detail, you can read the explanation from the\n",
        "[documentation](http://docs.scipy.org/doc/numpy/user/basics.broadcasting.html)."
      ],
      "id": "SyO72uR-aqTV"
    },
    {
      "cell_type": "markdown",
      "metadata": {
        "id": "Ha4dyJt0aqTW"
      },
      "source": [
        "Functions that support broadcasting are known as universal functions.\n",
        "You can find the list of all universal functions in the\n",
        "[documentation](http://docs.scipy.org/doc/numpy/reference/ufuncs.html#available-ufuncs)."
      ],
      "id": "Ha4dyJt0aqTW"
    },
    {
      "cell_type": "markdown",
      "metadata": {
        "id": "uOatlje2aqTW"
      },
      "source": [
        "Here are a few visual examples involving broadcasting.\n",
        "\n",
        "![](http://jalammar.github.io/images/numpy/numpy-array-broadcast.png)\n",
        "\n",
        "Note that these arrays are compatible in each dimension if they have\n",
        "either the same size in that dimension, or if one array has size 1 in\n",
        "that dimension.\n",
        "\n",
        "![](http://jalammar.github.io/images/numpy/numpy-matrix-broadcast.png)"
      ],
      "id": "uOatlje2aqTW"
    },
    {
      "cell_type": "markdown",
      "metadata": {
        "id": "owhm_ffAaqTW"
      },
      "source": [
        "And here are some more practical applications:"
      ],
      "id": "owhm_ffAaqTW"
    },
    {
      "cell_type": "code",
      "execution_count": null,
      "metadata": {
        "id": "ZU7NnccOaqTW"
      },
      "outputs": [],
      "source": [
        "# Compute outer product of vectors\n",
        "v = np.array([1,2,3])  # v has shape (3,)\n",
        "w = np.array([4,5])    # w has shape (2,)\n",
        "# To compute an outer product, we first reshape v to be a column\n",
        "# vector of shape (3, 1); we can then broadcast it against w to yield\n",
        "# an output of shape (3, 2), which is the outer product of v and w:\n",
        "\n",
        "print(np.reshape(v, (3, 1)) * w)"
      ],
      "id": "ZU7NnccOaqTW"
    },
    {
      "cell_type": "code",
      "execution_count": null,
      "metadata": {
        "id": "IG4lb43LaqTW"
      },
      "outputs": [],
      "source": [
        "# Add a vector to each row of a matrix\n",
        "x = np.array([[1,2,3], [4,5,6]])\n",
        "# x has shape (2, 3) and v has shape (3,) so they broadcast to (2, 3),\n",
        "# giving the following matrix:\n",
        "\n",
        "print(x + v)"
      ],
      "id": "IG4lb43LaqTW"
    },
    {
      "cell_type": "code",
      "execution_count": null,
      "metadata": {
        "id": "UYRf-Hx-aqTW"
      },
      "outputs": [],
      "source": [
        "# Add a vector to each column of a matrix\n",
        "# x has shape (2, 3) and w has shape (2,).\n",
        "# If we transpose x then it has shape (3, 2) and can be broadcast\n",
        "# against w to yield a result of shape (3, 2); transposing this result\n",
        "# yields the final result of shape (2, 3) which is the matrix x with\n",
        "# the vector w added to each column. Gives the following matrix:\n",
        "\n",
        "print((x.T + w).T)"
      ],
      "id": "UYRf-Hx-aqTW"
    },
    {
      "cell_type": "code",
      "execution_count": null,
      "metadata": {
        "id": "CKzsTtgMaqTW"
      },
      "outputs": [],
      "source": [
        "# Another solution is to reshape w to be a row vector of shape (2, 1);\n",
        "# we can then broadcast it directly against x to produce the same\n",
        "# output.\n",
        "print(x + np.reshape(w, (2, 1)))"
      ],
      "id": "CKzsTtgMaqTW"
    },
    {
      "cell_type": "code",
      "execution_count": null,
      "metadata": {
        "id": "-JuUEYu-aqTX"
      },
      "outputs": [],
      "source": [
        "# Multiply a matrix by a constant:\n",
        "# x has shape (2, 3). Numpy treats scalars as arrays of shape ();\n",
        "# these can be broadcast together to shape (2, 3), producing the\n",
        "# following array:\n",
        "print(x * 2)"
      ],
      "id": "-JuUEYu-aqTX"
    },
    {
      "cell_type": "markdown",
      "metadata": {
        "id": "YqpZPQFxaqTX"
      },
      "source": [
        "Broadcasting typically makes your code more concise and faster, so you\n",
        "should strive to use it where possible."
      ],
      "id": "YqpZPQFxaqTX"
    },
    {
      "cell_type": "markdown",
      "metadata": {
        "id": "VHIwTjdLaqTX"
      },
      "source": [
        "This brief overview has touched on many of the important things that you\n",
        "need to know about numpy, but is far from complete. Check out the [numpy\n",
        "reference](http://docs.scipy.org/doc/numpy/reference/) to find out much\n",
        "more about numpy."
      ],
      "id": "VHIwTjdLaqTX"
    },
    {
      "cell_type": "markdown",
      "metadata": {
        "id": "YbmM7BQJaqTX"
      },
      "source": [
        "Matplotlib\n",
        "----------"
      ],
      "id": "YbmM7BQJaqTX"
    },
    {
      "cell_type": "markdown",
      "metadata": {
        "id": "urOeKH3MaqTX"
      },
      "source": [
        "Matplotlib is a plotting library. In this section we give a brief\n",
        "introduction to the `matplotlib.pyplot` module, which provides a\n",
        "plotting system similar to that of MATLAB.\n",
        "\n",
        "By convention, we typically import this module using the `plt` alias:"
      ],
      "id": "urOeKH3MaqTX"
    },
    {
      "cell_type": "code",
      "execution_count": null,
      "metadata": {
        "id": "sna7pHrhaqTX"
      },
      "outputs": [],
      "source": [
        "import matplotlib.pyplot as plt"
      ],
      "id": "sna7pHrhaqTX"
    },
    {
      "cell_type": "markdown",
      "metadata": {
        "id": "bYwAn7bkaqTX"
      },
      "source": [
        "### Plotting"
      ],
      "id": "bYwAn7bkaqTX"
    },
    {
      "cell_type": "markdown",
      "metadata": {
        "id": "jYuR7BSEaqTX"
      },
      "source": [
        "The most important function in `matplotlib` is `plot`, which allows you\n",
        "to plot 2D data as a line plot. Here is a simple example:"
      ],
      "id": "jYuR7BSEaqTX"
    },
    {
      "cell_type": "code",
      "execution_count": null,
      "metadata": {
        "id": "JPQJli5yaqTY"
      },
      "outputs": [],
      "source": [
        "# Compute the x and y coordinates for points on a sine curve\n",
        "x = np.arange(0, 3 * np.pi, 0.1)\n",
        "y = np.sin(x)\n",
        "\n",
        "# Plot the points using matplotlib\n",
        "plt.plot(x, y)\n",
        "\n",
        "# Show the figure.\n",
        "plt.show()"
      ],
      "id": "JPQJli5yaqTY"
    },
    {
      "cell_type": "markdown",
      "metadata": {
        "id": "TRHeGHOHaqTY"
      },
      "source": [
        "With just a little bit of extra work we can easily plot multiple lines\n",
        "at once, and add a title, legend, and axis labels:"
      ],
      "id": "TRHeGHOHaqTY"
    },
    {
      "cell_type": "code",
      "execution_count": null,
      "metadata": {
        "id": "Pxcp5WpqaqTY"
      },
      "outputs": [],
      "source": [
        "y_sin = np.sin(x)\n",
        "y_cos = np.cos(x)\n",
        "\n",
        "# Plot the points using matplotlib\n",
        "plt.plot(x, y_sin, label='Sine')\n",
        "plt.plot(x, y_cos, label='Cosine')\n",
        "plt.legend() # uses the label arguments given above\n",
        "\n",
        "plt.xlabel('x axis label')\n",
        "plt.ylabel('y axis label')\n",
        "plt.title('Sine and Cosine')\n",
        "\n",
        "# Show the figure.\n",
        "plt.show()"
      ],
      "id": "Pxcp5WpqaqTY"
    },
    {
      "cell_type": "markdown",
      "metadata": {
        "id": "qYI6jDLZaqTY"
      },
      "source": [
        "Another useful, basic, plot is the `scatter` plot:"
      ],
      "id": "qYI6jDLZaqTY"
    },
    {
      "cell_type": "code",
      "execution_count": null,
      "metadata": {
        "id": "hydpm9rzaqTY"
      },
      "outputs": [],
      "source": [
        "x = np.random.rand(50)\n",
        "y = np.random.rand(50)\n",
        "colors = np.random.randint(0, 2, 50)\n",
        "\n",
        "plt.scatter(x, y, c=colors)\n",
        "\n",
        "plt.show()"
      ],
      "id": "hydpm9rzaqTY"
    },
    {
      "cell_type": "markdown",
      "metadata": {
        "id": "Zhems-nSaqTY"
      },
      "source": [
        "When there is no logical connection between adjacent points (for\n",
        "example: if the horizontal axis is a categorical variable without a\n",
        "logical order), then you should *not* connect them (as in a line plot),\n",
        "since this implies a relationship that does not exist! Instead, you\n",
        "would use a scatter plot."
      ],
      "id": "Zhems-nSaqTY"
    },
    {
      "cell_type": "markdown",
      "metadata": {
        "id": "dJ3AnsxWaqTY"
      },
      "source": [
        "### Subplots"
      ],
      "id": "dJ3AnsxWaqTY"
    },
    {
      "cell_type": "markdown",
      "metadata": {
        "id": "xMTaiBuPaqTY"
      },
      "source": [
        "You can plot different things in the same figure using the `subplot`\n",
        "function. Here is an example:"
      ],
      "id": "xMTaiBuPaqTY"
    },
    {
      "cell_type": "code",
      "execution_count": null,
      "metadata": {
        "id": "ownJav-YaqTZ"
      },
      "outputs": [],
      "source": [
        "# Compute the x and y coordinates for points on sine and cosine curves\n",
        "x = np.arange(0, 3 * np.pi, 0.1)\n",
        "y_sin = np.sin(x)\n",
        "y_cos = np.cos(x)\n",
        "\n",
        "# Set up a subplot grid that has height 2 and width 1,\n",
        "# and set the first such subplot as active.\n",
        "plt.subplot(2, 1, 1)\n",
        "\n",
        "# Make the first plot\n",
        "plt.plot(x, y_sin)\n",
        "plt.title('Sine')\n",
        "\n",
        "# Set the second subplot as active, and make the second plot.\n",
        "plt.subplot(2, 1, 2)\n",
        "plt.plot(x, y_cos)\n",
        "plt.title('Cosine')\n",
        "\n",
        "# Adjust spacing between subplots\n",
        "plt.subplots_adjust(hspace = 0.4)\n",
        "\n",
        "# Show the figure.\n",
        "plt.show()"
      ],
      "id": "ownJav-YaqTZ"
    },
    {
      "cell_type": "markdown",
      "metadata": {
        "id": "YR69vOXQaqTZ"
      },
      "source": [
        "You can read much more about the `subplot` function in the\n",
        "[documentation](http://matplotlib.org/api/pyplot_api.html#matplotlib.pyplot.subplot)."
      ],
      "id": "YR69vOXQaqTZ"
    },
    {
      "cell_type": "markdown",
      "metadata": {
        "id": "XQhkLlrQaqTZ"
      },
      "source": [
        "You can use the `imshow` function to display images from a file. Here is\n",
        "an example:"
      ],
      "id": "XQhkLlrQaqTZ"
    },
    {
      "cell_type": "code",
      "execution_count": null,
      "metadata": {
        "id": "fOuTlu-paqTZ"
      },
      "outputs": [],
      "source": [
        "from matplotlib.cbook import get_sample_data\n",
        "\n",
        "img_file = get_sample_data('grace_hopper.jpg')\n",
        "\n",
        "img = plt.imread(img_file)\n",
        "plt.imshow(img)\n",
        "plt.show()"
      ],
      "id": "fOuTlu-paqTZ"
    },
    {
      "cell_type": "markdown",
      "metadata": {
        "id": "uRJWWC5KaqTZ"
      },
      "source": [
        "The `matplotlib` library is very flexible, and you can create virtually\n",
        "any plot and modify its appearance in any way you might think of. If you\n",
        "don’t like the way your plot looks, fix it! Use the\n",
        "[documentation](http://matplotlib.org/api/pyplot_api.html) to learn\n",
        "more."
      ],
      "id": "uRJWWC5KaqTZ"
    }
  ],
  "nbformat": 4,
  "nbformat_minor": 5,
  "metadata": {
    "colab": {
      "provenance": [],
      "include_colab_link": true
    }
  }
}